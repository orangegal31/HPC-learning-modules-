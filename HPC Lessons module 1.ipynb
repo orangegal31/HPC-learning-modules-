{
 "cells": [
  {
   "cell_type": "markdown",
   "metadata": {},
   "source": [
    "# Course Plan: \"Using HPC to Complete Your Task\"\n",
    "#### Made by Xiaoyuan Suo @webster university\n",
    "#### xiaoyuansuo51@webster.edu\n",
    "\n",
    "This course is designed to introduce students to High-Performance Computing (HPC) and guide them through the process of leveraging HPC resources to efficiently complete computational tasks. The course is divided into five modules, each focusing on different aspects of HPC, from basics to advanced usage.\n",
    "\n",
    "---\n"
   ]
  },
  {
   "cell_type": "markdown",
   "metadata": {},
   "source": [
    "### **Module 1: Introduction to High-Performance Computing (HPC)**\n",
    "- **Overview of HPC:** Understand what HPC is and why it's important.\n",
    "- **Applications of HPC:** Explore various fields where HPC is used, such as scientific research, data analysis, and engineering simulations.\n",
    "- **HPC Architecture:** Learn the basic architecture of HPC systems, including processors, memory, storage, and networking.\n",
    "- **Key Concepts:** Introduction to parallel computing, clusters, and supercomputers.\n",
    "- **HPC Environments:** Overview of popular HPC environments and software.\n",
    "\n",
    "**Learning Outcome:** Students will gain a foundational understanding of HPC, its architecture, and its applications.\n"
   ]
  },
  {
   "cell_type": "markdown",
   "metadata": {},
   "source": [
    "### Course Module: Overview of High-Performance Computing (HPC)\n",
    "\n",
    "**Learning Objective:**  \n",
    "By the end of this module, students will have a clear understanding of what High-Performance Computing (HPC) is, its basic principles, and why it is crucial across all STEM (Science, Technology, Engineering, and Mathematics) disciplines.\n",
    "\n",
    "---\n",
    "\n",
    "#### 1. Introduction to High-Performance Computing (HPC) \n",
    "- **Definition of HPC:**\n",
    "  - HPC refers to the use of supercomputers and parallel processing techniques for solving complex computational problems. These systems consist of many processors working together to perform billions or trillions of calculations per second.\n",
    "- **HPC vs. Traditional Computing:**\n",
    "  - Traditional computing systems handle tasks sequentially and are limited by their processing power. In contrast, HPC systems distribute tasks across multiple processors, allowing them to handle more data and perform more complex calculations in significantly less time.\n",
    "\n",
    "#### 2. The Importance of HPC in STEM Disciplines \n",
    "- **Science:**\n",
    "  - **Simulations and Modeling:** HPC enables scientists to simulate complex physical and chemical processes, such as climate modeling, astrophysical simulations, and molecular dynamics. These simulations are crucial for understanding phenomena that are difficult or impossible to study experimentally.\n",
    "  - **Genomics and Bioinformatics:** In biology and medicine, HPC is used to analyze massive datasets, such as genomic sequences, which can lead to breakthroughs in personalized medicine and drug discovery.\n",
    "- **Technology:**\n",
    "  - **Artificial Intelligence and Machine Learning:** HPC provides the computational power needed to train large-scale AI models and perform deep learning, which is essential in fields like autonomous systems, natural language processing, and image recognition.\n",
    "  - **Big Data Analysis:** HPC systems allow for the rapid processing of large datasets, which is vital for extracting meaningful insights in areas such as data science, cybersecurity, and network analysis.\n",
    "- **Engineering:**\n",
    "  - **Finite Element Analysis (FEA) and Computational Fluid Dynamics (CFD):** Engineers use HPC to simulate and optimize the design of structures, vehicles, and other systems under various physical conditions. This reduces the need for costly physical prototypes.\n",
    "  - **Materials Science:** HPC facilitates the discovery of new materials by simulating atomic interactions, predicting properties, and accelerating the design process.\n",
    "- **Mathematics:**\n",
    "  - **Complex Calculations:** Mathematicians use HPC for solving complex equations and problems that require significant computational resources, such as large-scale optimizations, cryptography, and number theory.\n",
    "  - **Algorithm Development:** HPC plays a role in testing and developing new algorithms that can be applied to various fields, enhancing computational efficiency and problem-solving capabilities.\n",
    "\n",
    "#### 3. HPC in Interdisciplinary Research \n",
    "- **Collaborative Projects:**\n",
    "  - HPC is increasingly used in interdisciplinary research, where scientists, engineers, and mathematicians collaborate to solve complex problems. For example, climate change studies combine meteorology, oceanography, and environmental science, all of which rely on HPC for accurate simulations.\n",
    "- **Global Impact:**\n",
    "  - The insights gained from HPC-driven research have a global impact, leading to advancements in healthcare, sustainable energy, environmental protection, and more.\n",
    "\n",
    "#### 4. Why Understanding HPC is Essential for All STEM Students\n",
    "- **Future-Proofing Your Skills:**\n",
    "  - As HPC continues to advance, it will play an even more critical role in STEM fields. Understanding HPC concepts and techniques will equip students with the skills needed to tackle the computational challenges of tomorrow.\n",
    "- **Innovation and Problem-Solving:**\n",
    "  - By leveraging HPC, students can engage in innovative research and solve complex problems that were previously out of reach, positioning them at the forefront of their respective fields.\n",
    "\n",
    "#### 5. Example HPC Jobs and System Overview\n",
    "\n",
    "##### Example tasks/jobs\n",
    "- **Molecular Dynamics Simulations:** Simulating the interactions between molecules in a large biological system, which can require days of computational time on a traditional system but only hours on an HPC system.\n",
    "- **Climate Modeling:** Running simulations to predict future climate conditions based on various environmental factors, requiring the processing of vast amounts of data.\n",
    "- **AI Model Training:** Training deep neural networks for image recognition tasks that require significant computational power and memory.\n",
    "\n",
    "##### HPC System Overview\n",
    "The HPC system you’ll be using for these tasks consists of the following resources:\n",
    "\n",
    "- **Compute Nodes:**\n",
    "  - 12 Dell PowerEdge R6625 Servers\n",
    "  - 2x AMD EPYC 9754 128-core Processors per server\n",
    "  - 1024 GB RAM (3200 MT/s) per server\n",
    "  - 1.6TB local Enterprise NVMe storage per server\n",
    "- **Networking:**\n",
    "  - On-board 10 Gbit/s Ethernet\n",
    "  - Mellanox IB ConnectX-6 VPI network adapter (single port, supports up to 200 Gbit/s for InfiniBand)\n",
    "- **Storage:**\n",
    "  - 100 TB of tiered storage with a smart controller\n",
    "  - Archival ability: Record data on tape for permanent storage at the OURRstore facility (University of Oklahoma)\n",
    "\n",
    "##### HPC Environment and Software\n",
    "The HPC system you’ll be using has these software/packages: \n",
    "Anaconda, CUDA, Cutadapt, Gaussian, Globus, Hadoop File System (HDFS), Intel Parallel Studio, Julia, Jupyter Notebook, Introduction to Basic Linux, MATLAB, MobaXterm, Environment Modules User Guide, MPI, R, RSSTool, SAS, Introduction to Singularity, SLURM Overview, SlurmSpark, TensorFlow\n",
    "\n",
    "##### Conclusion\n",
    "- **Recap:** HPC is a cornerstone of modern science, technology, engineering, and mathematics. Its ability to handle large-scale computations and simulations makes it indispensable in today’s data-driven world.\n",
    "- **Next Steps:** In the upcoming modules, we will dive deeper into how to access, navigate, and effectively use HPC resources to enhance your research and problem-solving capabilities.\n"
   ]
  },
  {
   "cell_type": "markdown",
   "metadata": {},
   "source": [
    "### **Assessment and Certification**\n",
    "- **Quizzes:** Short quizzes at the end of each module to assess understanding.\n",
    "- **Final Exam:** A comprehensive exam that involves using HPC to complete a real-world task.\n",
    "- **Certification:** Upon successful completion of the course and the final project, students will receive a certification of completion.\n",
    "\n",
    "---\n",
    
  
 ],
 "metadata": {
  "kernelspec": {
   "display_name": "Python 3",
   "language": "python",
   "name": "python3"
  },
  "language_info": {
   "codemirror_mode": {
    "name": "ipython",
    "version": 3
   },
   "file_extension": ".py",
   "mimetype": "text/x-python",
   "name": "python",
   "nbconvert_exporter": "python",
   "pygments_lexer": "ipython3",
   "version": "3.11.9"
  }
 },
 "nbformat": 4,
 "nbformat_minor": 2
}
