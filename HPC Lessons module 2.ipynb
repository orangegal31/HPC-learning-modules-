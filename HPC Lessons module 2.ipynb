{
 "cells": [
  {
   "cell_type": "markdown",
   "metadata": {},
   "source": [
    "## **Module 2: Accessing HPC Resources**\n",
    "- **Getting Started with HPC:** Learn how to access HPC resources available to students or educators.\n",
    "- **User Accounts and Permissions:** Understand how to set up and manage user accounts on HPC systems.\n",
    "- **Connecting to an HPC System:** Step-by-step guide on using SSH or other methods to connect to an HPC cluster.\n",
    "- **Navigating the HPC Environment:** Familiarize yourself with the command-line interface, file systems, and directories on HPC clusters.\n",
    "- **Best Practices for Access:** Tips on managing files, directories, and data efficiently on an HPC system.\n",
    "\n",
    "**Learning Outcome:** Students will be able to access and navigate an HPC system, manage their accounts, and understand the basic environment.\n",
    "\n",
    "---\n"
   ]
  },
  {
   "cell_type": "markdown",
   "metadata": {},
   "source": [
    "### Module 2: Accessing HPC Resources\n",
    "\n",
    "**Learning Objective:**  \n",
    "By the end of this module, students will be able to access and navigate an HPC system, manage their accounts, and understand the basic environment.\n",
    "\n",
    "---\n",
    "\n",
    "#### 1. Getting Started with HPC (2 minutes)\n",
    "##### Overview\n",
    "- **Introduction to HPC Access:**\n",
    "  - Accessing High-Performance Computing (HPC) resources is the first step towards leveraging their powerful capabilities for your research or computational tasks.\n",
    "  - Whether you’re a student, researcher, or professional, gaining access to an HPC system requires a few initial steps, which we'll cover in this module.\n",
    "\n",
    "##### Hellbender HPC System\n",
    "- **Requesting an Account:**\n",
    "  - If you're affiliated with a university that is part of the consortium, you can request an HPC account on the Hellbender system by filling out the form available at [https://request.itrss.umsystem.edu](https://request.itrss.umsystem.edu).\n",
    "  - Alternatively, if your university is new to the consortium, you should email your request to the CIMUSE team.\n",
    "- **Campus Champion:**\n",
    "  - If your university is part of the consortium, consider reaching out to your campus champion for assistance in setting up your account and getting started.\n",
    "  - Webster University: Xiaoyuan Suo  <xiaoyuansuo51@webster.edu>\n",
    "  - Missouri Western State University: Jeffrey Woodford <jwoodford@missouriwestern.edu>\n",
    "  - Truman State University: Colin DeGraf <cdegraf@truman.edu>\n",
    "  - Southeast Missouri State University: Marcus Bond  <mbond@semo.edu>\n",
    "\n",
    "- **Useful Information:**\n",
    "  - Detailed instructions and resources for accessing the Hellbender HPC system can be found on the University of Missouri ITRSS webpage: [https://docs.itrss.umsystem.edu/pub/hpc/hellbender](https://docs.itrss.umsystem.edu/pub/hpc/hellbender).\n",
    "\n",
    "---\n",
    "\n",
    "#### 2. User Accounts and Permissions (2 minutes)\n",
    "##### Setting Up and Managing Accounts\n",
    "- **Account Creation:**\n",
    "  - Once your request is approved, you'll receive login credentials to access the HPC system. Your account will typically include a username and an initial password, which you should change upon first login.\n",
    "- **Permissions:**\n",
    "  - Understand the permissions associated with your account. Depending on your role, you may have different levels of access to computing resources, storage, and software.\n",
    "- **Managing Your Account:**\n",
    "  - Regularly update your password and ensure that your account details are kept secure. Familiarize yourself with the process for requesting additional resources or permissions if needed.\n",
    "\n",
    "---\n",
    "\n",
    "#### 3. Connecting to an HPC System (2 minutes)\n",
    "##### Step-by-Step Guide\n",
    "- **Using SSH to Connect:**\n",
    "  - **SSH (Secure Shell):** The most common method for connecting to an HPC system is through SSH, a protocol that provides a secure channel over an unsecured network.\n",
    "  - **How to Connect:**\n",
    "    1. Open a terminal on your local machine (Mac/Linux) or a tool like PuTTY (Windows).\n",
    "    2. Use the following command to connect:  \n",
    "       ```bash\n",
    "       ssh username@hellbender.umsystem.edu\n",
    "       ```\n",
    "    3. Enter your password when prompted.\n",
    "  - **SSH Keys:** For added security, you can set up \n"
   ]
  }
 ],
 "metadata": {
  "kernelspec": {
   "display_name": "Python 3",
   "language": "python",
   "name": "python3"
  },
  "language_info": {
   "codemirror_mode": {
    "name": "ipython",
    "version": 3
   },
   "file_extension": ".py",
   "mimetype": "text/x-python",
   "name": "python",
   "nbconvert_exporter": "python",
   "pygments_lexer": "ipython3",
   "version": "3.11.9"
  }
 },
 "nbformat": 4,
 "nbformat_minor": 2
}
