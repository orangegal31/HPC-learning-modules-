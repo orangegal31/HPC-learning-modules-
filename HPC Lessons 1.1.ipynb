{
 "cells": [
  {
   "cell_type": "markdown",
   "metadata": {},
   "source": [
    "# Basics of Linux\n",
    "## Course Module Outline\n",
    "\n",
    "**Duration**: 50 minutes  \n",
    "**Prerequisites**: None  \n",
    "**Objective**: Introduce students to basic Linux commands, file system navigation, and an overview of SLURM for job scheduling on an HPC cluster.\n",
    "\n",
    "---\n",
    "\n",
    "## 1. Introduction to Linux (5 minutes)\n",
    "- Brief overview of Linux as an operating system commonly used in HPC environments.\n",
    "- Linux is a command-line-driven OS, which is essential for using supercomputing resources efficiently.\n",
    "\n",
    "---\n",
    "\n",
    "## 2. Basic Linux Commands (15 minutes)\n",
    "### 2.1 Navigating the File System\n",
    "- `pwd` – Print Working Directory\n",
    "```bash\n",
    "pwd\n"
   ]
  },
  {
   "cell_type": "markdown",
   "metadata": {},
   "source": [
    "- `ls` –  List files in the current directory"
   ]
  },
  {
   "cell_type": "code",
   "execution_count": null,
   "metadata": {},
   "outputs": [],
   "source": [
    "ls\n"
   ]
  },
  {
   "cell_type": "markdown",
   "metadata": {},
   "source": [
    "- `cd` – Change directory"
   ]
  },
  {
   "cell_type": "code",
   "execution_count": null,
   "metadata": {},
   "outputs": [],
   "source": [
    "cd /path/to/directory"
   ]
  },
  {
   "cell_type": "markdown",
   "metadata": {},
   "source": [
    "### 2.2 File and Directory Management\n",
    "\n",
    "- `mkdir`  – Make a new directory"
   ]
  },
  {
   "cell_type": "code",
   "execution_count": null,
   "metadata": {},
   "outputs": [],
   "source": [
    "mkdir my_directory"
   ]
  },
  {
   "cell_type": "markdown",
   "metadata": {},
   "source": [
    "- `touch` – Create an empty file"
   ]
  },
  {
   "cell_type": "code",
   "execution_count": null,
   "metadata": {},
   "outputs": [],
   "source": [
    "touch file.txt"
   ]
  },
  {
   "cell_type": "markdown",
   "metadata": {},
   "source": [
    "- `cp` – Copy files"
   ]
  },
  {
   "cell_type": "code",
   "execution_count": null,
   "metadata": {},
   "outputs": [],
   "source": [
    "cp source_file.txt destination_file.txt"
   ]
  },
  {
   "cell_type": "markdown",
   "metadata": {},
   "source": [
    "- `mv` – Move (or rename) files"
   ]
  },
  {
   "cell_type": "code",
   "execution_count": null,
   "metadata": {},
   "outputs": [],
   "source": [
    "mv file.txt new_file.txt"
   ]
  },
  {
   "cell_type": "markdown",
   "metadata": {},
   "source": [
    "- `rm` – Remove files"
   ]
  },
  {
   "cell_type": "code",
   "execution_count": null,
   "metadata": {},
   "outputs": [],
   "source": [
    "rm unwanted_file.txt"
   ]
  },
  {
   "cell_type": "markdown",
   "metadata": {},
   "source": [
    "- `rmdir` – Remove empty directories"
   ]
  },
  {
   "cell_type": "code",
   "execution_count": null,
   "metadata": {},
   "outputs": [],
   "source": [
    "rmdir my_directory"
   ]
  },
  {
   "cell_type": "markdown",
   "metadata": {},
   "source": [
    "### 2.3 Viewing and Editing Files\n",
    "- `cat` – View contents of a file"
   ]
  },
  {
   "cell_type": "code",
   "execution_count": null,
   "metadata": {},
   "outputs": [],
   "source": [
    "cat file.txt"
   ]
  },
  {
   "cell_type": "markdown",
   "metadata": {},
   "source": [
    "- `less` – Scroll through a file"
   ]
  },
  {
   "cell_type": "code",
   "execution_count": null,
   "metadata": {},
   "outputs": [],
   "source": [
    "less file.txt"
   ]
  },
  {
   "cell_type": "markdown",
   "metadata": {},
   "source": [
    "- `nano` – Edit files with a simple text editor"
   ]
  },
  {
   "cell_type": "code",
   "execution_count": null,
   "metadata": {},
   "outputs": [],
   "source": [
    "nano file.txt"
   ]
  },
  {
   "cell_type": "markdown",
   "metadata": {},
   "source": [
    "### 2.4 Checking System Status\n",
    "- `df` – Check disk space usage"
   ]
  },
  {
   "cell_type": "code",
   "execution_count": null,
   "metadata": {},
   "outputs": [],
   "source": [
    "df -h"
   ]
  },
  {
   "cell_type": "markdown",
   "metadata": {},
   "source": [
    "- `top` – View running processes"
   ]
  },
  {
   "cell_type": "code",
   "execution_count": null,
   "metadata": {},
   "outputs": [],
   "source": [
    "top"
   ]
  },
  {
   "cell_type": "markdown",
   "metadata": {},
   "source": [
    "- `ps` – Display current processes"
   ]
  },
  {
   "cell_type": "code",
   "execution_count": null,
   "metadata": {
    "vscode": {
     "languageId": "bat"
    }
   },
   "outputs": [],
   "source": [
    "ps aux"
   ]
  },
  {
   "cell_type": "markdown",
   "metadata": {},
   "source": [
    "## 3. Introduction to Permissions (10 minutes)\n",
    "\n",
    "### 3.1 Understanding File Permissions\n",
    "Each file in Linux has three sets of permissions:\n",
    "- Owner (user)\n",
    "- Group\n",
    "- Others\n",
    "\n",
    "Permissions include:\n",
    "- Read (`r`), Write (`w`), and Execute (`x`).\n",
    "\n",
    "For example, the following output from the `ls -l` command shows a file's permissions:\n",
    "```bash\n",
    "ls -l file.txt\n"
   ]
  },
  {
   "cell_type": "code",
   "execution_count": null,
   "metadata": {
    "vscode": {
     "languageId": "bat"
    }
   },
   "outputs": [],
   "source": [
    "-rwxr-xr-- 1 user group 4096 Sep 21 14:55 file.txt"
   ]
  },
  {
   "cell_type": "markdown",
   "metadata": {},
   "source": [
    "Explanation:\n",
    "\n",
    "`rwx`: The owner (user) has read, write, and execute permissions.\n",
    "`r-x`: The group has read and execute permissions, but not write.\n",
    "`r--`: Others only have read permissions."
   ]
  },
  {
   "cell_type": "markdown",
   "metadata": {},
   "source": [
    "### 3.2 Changing File Permissions\n",
    "Use the `chmod` command to modify a file's permissions.\n",
    "\n",
    "Example: Granting read, write, and execute permissions to the owner, and read-only to the group and others:"
   ]
  },
  {
   "cell_type": "code",
   "execution_count": null,
   "metadata": {
    "vscode": {
     "languageId": "bat"
    }
   },
   "outputs": [],
   "source": [
    "chmod 744 file.txt"
   ]
  },
  {
   "cell_type": "markdown",
   "metadata": {},
   "source": [
    "This command sets the file permissions to:\n",
    "\n",
    "Owner: Read, Write, Execute\n",
    "\n",
    "Group: Read\n",
    "\n",
    "Others: Read\n",
    "\n",
    "Using symbolic notation:"
   ]
  },
  {
   "cell_type": "code",
   "execution_count": null,
   "metadata": {
    "vscode": {
     "languageId": "bat"
    }
   },
   "outputs": [],
   "source": [
    "chmod u=rwx,g=r,o=r file.txt"
   ]
  },
  {
   "cell_type": "markdown",
   "metadata": {},
   "source": [
    "### 3.3 Changing File Ownership\n",
    "Use the `chown` command to change the ownership of a file.\n",
    "\n",
    "Example: Change the owner of the file to newuser and the group to newgroup:"
   ]
  },
  {
   "cell_type": "code",
   "execution_count": null,
   "metadata": {
    "vscode": {
     "languageId": "bat"
    }
   },
   "outputs": [],
   "source": [
    "chown newuser:newgroup file.txt"
   ]
  },
  {
   "cell_type": "markdown",
   "metadata": {},
   "source": [
    "To change only the user: "
   ]
  },
  {
   "cell_type": "code",
   "execution_count": null,
   "metadata": {
    "vscode": {
     "languageId": "bat"
    }
   },
   "outputs": [],
   "source": [
    "chown newuser file.txt\n"
   ]
  },
  {
   "cell_type": "markdown",
   "metadata": {},
   "source": [
    "To change only the group: "
   ]
  },
  {
   "cell_type": "code",
   "execution_count": null,
   "metadata": {
    "vscode": {
     "languageId": "bat"
    }
   },
   "outputs": [],
   "source": [
    "chown :newgroup file.txt"
   ]
  },
  {
   "cell_type": "markdown",
   "metadata": {},
   "source": [
    "## 4. Introduction to SLURM for Job Scheduling \n",
    "\n",
    "SLURM (Simple Linux Utility for Resource Management) is a job scheduler for managing and allocating computing resources on high-performance computing (HPC) clusters.\n",
    "\n",
    "Learning SLURM is essential for anyone working with high-performance computing (HPC) clusters because it allows efficient management and scheduling of computational tasks. SLURM enables you to allocate resources like CPUs, memory, and nodes, ensuring that your jobs run smoothly and without conflict with others. It also helps automate the submission of complex jobs, manage job dependencies, and monitor resource usage, which are critical skills in optimizing computational workflows and making the most of large-scale computing environments.\n",
    "\n",
    "### 4.1 Submitting Jobs to the Cluster\n",
    "To submit a job to the SLURM job scheduler, you use the `sbatch` command along with a job script that specifies the job’s requirements.\n",
    "\n",
    "#### Example: Submitting a job script\n",
    "```bash\n",
    "sbatch job_script.sh\n"
   ]
  },
  {
   "cell_type": "markdown",
   "metadata": {},
   "source": [
    "Example of a simple job script (job_script.sh)"
   ]
  },
  {
   "cell_type": "code",
   "execution_count": null,
   "metadata": {
    "vscode": {
     "languageId": "bat"
    }
   },
   "outputs": [],
   "source": [
    "#!/bin/bash\n",
    "#SBATCH --job-name=test_job      # Job name\n",
    "#SBATCH --output=output.txt      # Output file\n",
    "#SBATCH --ntasks=1               # Number of tasks\n",
    "#SBATCH --time=00:30:00          # Time limit (hh:mm:ss)\n",
    "#SBATCH --mem=1G                 # Memory allocation\n",
    "\n",
    "# Your commands to execute\n",
    "echo \"Running job on SLURM\"\n"
   ]
  },
  {
   "cell_type": "markdown",
   "metadata": {},
   "source": [
    "Explanation:\n",
    "\n",
    "--`job-name`: Specifies a name for the job.\n",
    "\n",
    "--`output`: The file where the job’s output will be written.\n",
    "\n",
    "--`ntasks`: Specifies how many tasks (processes) to run.\n",
    "\n",
    "--`time`: Sets the maximum time the job is allowed to run.\n",
    "\n",
    "--`mem`: Defines the amount of memory required for the job."
   ]
  },
  {
   "cell_type": "markdown",
   "metadata": {},
   "source": [
    "### 4.2 Monitoring Jobs\n",
    "Use the `squeue` command to view the status of your jobs in the queue.\n",
    "\n",
    "Example: Checking the status of your jobs"
   ]
  },
  {
   "cell_type": "code",
   "execution_count": null,
   "metadata": {
    "vscode": {
     "languageId": "bat"
    }
   },
   "outputs": [],
   "source": [
    "squeue -u your_username"
   ]
  },
  {
   "cell_type": "markdown",
   "metadata": {},
   "source": [
    "This command will show a list of jobs submitted by the user, along with details such as job ID, status, and run time.\n",
    "\n",
    "\n",
    "### 4.3 Canceling Jobs\n",
    "If you need to cancel a job, use the `scancel` command followed by the job ID.\n",
    "\n",
    "Example: Canceling a job"
   ]
  },
  {
   "cell_type": "markdown",
   "metadata": {},
   "source": [
    "scancel 12345"
   ]
  },
  {
   "cell_type": "markdown",
   "metadata": {
    "vscode": {
     "languageId": "bat"
    }
   },
   "source": [
    "Here, `12345` is the job ID you want to cancel.\n",
    "\n",
    "\n",
    "### 4.4 Viewing Job Output\n",
    "After your job has completed, you can view the output by checking the output file specified in your job script.\n",
    "\n",
    "Example: Viewing the last 10 lines of the output file"
   ]
  },
  {
   "cell_type": "code",
   "execution_count": null,
   "metadata": {
    "vscode": {
     "languageId": "bat"
    }
   },
   "outputs": [],
   "source": [
    "tail -n 10 output.txt"
   ]
  },
  {
   "cell_type": "markdown",
   "metadata": {},
   "source": [
    "Example: Continuously monitoring a file as it’s being written"
   ]
  },
  {
   "cell_type": "code",
   "execution_count": null,
   "metadata": {
    "vscode": {
     "languageId": "bat"
    }
   },
   "outputs": [],
   "source": [
    "tail -f output.txt"
   ]
  },
  {
   "cell_type": "markdown",
   "metadata": {},
   "source": [
    "### 4.5 SLURM Job Information\n",
    "\n",
    "Use the `sacct` command to view information about current and past jobs, including the resources they used.\n",
    "\n",
    "Example: Viewing job history"
   ]
  },
  {
   "cell_type": "code",
   "execution_count": null,
   "metadata": {
    "vscode": {
     "languageId": "bat"
    }
   },
   "outputs": [],
   "source": [
    "sacct"
   ]
  },
  {
   "cell_type": "markdown",
   "metadata": {},
   "source": [
    "This will display a list of jobs, their IDs, state, and resource usage information (e.g., CPU time, memory used).\n",
    "\n",
    "### 4.6 SLURM Job Options\n",
    "\n",
    "There are many options you can set in your SLURM job script to control how your job runs.\n",
    "\n",
    "Common SLURM job options:\n",
    "\n",
    "Number of CPUs per task:"
   ]
  },
  {
   "cell_type": "code",
   "execution_count": null,
   "metadata": {
    "vscode": {
     "languageId": "bat"
    }
   },
   "outputs": [],
   "source": [
    "#SBATCH --cpus-per-task=4"
   ]
  },
  {
   "cell_type": "markdown",
   "metadata": {},
   "source": [
    "Node requirements:"
   ]
  },
  {
   "cell_type": "code",
   "execution_count": null,
   "metadata": {
    "vscode": {
     "languageId": "bat"
    }
   },
   "outputs": [],
   "source": [
    "#SBATCH --nodes=2"
   ]
  },
  {
   "cell_type": "markdown",
   "metadata": {},
   "source": [
    "Email notifications (sends an email when the job starts and ends):"
   ]
  },
  {
   "cell_type": "code",
   "execution_count": null,
   "metadata": {
    "vscode": {
     "languageId": "bat"
    }
   },
   "outputs": [],
   "source": [
    "#SBATCH --mail-type=BEGIN,END\n",
    "#SBATCH --mail-user=youremail@example.com"
   ]
  },
  {
   "cell_type": "markdown",
   "metadata": {},
   "source": [
    "### 4.7 SLURM Partitions\n",
    "\n",
    "SLURM divides resources into partitions (also known as queues). You can specify which partition to submit your job to using the --partition option.\n",
    "\n",
    "Example: Submitting a job to the long partition"
   ]
  },
  {
   "cell_type": "code",
   "execution_count": null,
   "metadata": {
    "vscode": {
     "languageId": "bat"
    }
   },
   "outputs": [],
   "source": [
    "#SBATCH --partition=long"
   ]
  },
  {
   "cell_type": "markdown",
   "metadata": {},
   "source": [
    "### 4.8 SLURM Job Dependencies\n",
    "\n",
    "You can set dependencies between jobs, ensuring that one job runs only after another has completed.\n",
    "\n",
    "Example: Submitting a job with a dependency on job `12345`"
   ]
  },
  {
   "cell_type": "code",
   "execution_count": null,
   "metadata": {
    "vscode": {
     "languageId": "bat"
    }
   },
   "outputs": [],
   "source": [
    "sbatch --dependency=afterok:12345 job_script.sh"
   ]
  },
  {
   "cell_type": "markdown",
   "metadata": {},
   "source": [
    "This will only run `job_script.sh` after job `12345` has completed successfully."
   ]
  },
  {
   "cell_type": "markdown",
   "metadata": {},
   "source": [
    "### Summary\n",
    "\n",
    "SLURM allows efficient management and scheduling of jobs on an HPC cluster. We have covered basic SLURM commands such as `sbatch`, `squeue`, `scancel`, and job script options for controlling resources, monitoring, and managing jobs."
   ]
  },
  {
   "cell_type": "markdown",
   "metadata": {},
   "source": [
    "\n",
    "This section covers the basic usage of SLURM for job submission, monitoring, canceling, and managing resources on an HPC cluster.\n"
   ]
  }
 ],
 "metadata": {
  "language_info": {
   "name": "python"
  }
 },
 "nbformat": 4,
 "nbformat_minor": 2
}
